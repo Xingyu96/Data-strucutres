{
 "cells": [
  {
   "cell_type": "markdown",
   "metadata": {},
   "source": [
    "<h2>Bubble Sort - never use this!</h2>\n",
    "<ul>\n",
    "<li>Compare adjacent items and exchange out of order ones</li>\n",
    "<li>Each pass placese the next largest value in its proper place</li>\n",
    "<li>a lot of repeats</li>\n",
    "</ul>"
   ]
  },
  {
   "cell_type": "code",
   "execution_count": 47,
   "metadata": {
    "collapsed": true
   },
   "outputs": [],
   "source": [
    "def bubble_sort(arr):\n",
    "    #running up to the nth item\n",
    "    for n in range(len(arr)-1,0,-1):\n",
    "        print(\"n= \",n)\n",
    "        #from 0 to n, compare and swap\n",
    "        for k in range(n):\n",
    "            print(\"k= \",k)\n",
    "            if arr[k] > arr[k+1]:\n",
    "                temp = arr[k]\n",
    "                arr[k] = arr[k+1]\n",
    "                arr[k+1] = temp\n",
    "                "
   ]
  },
  {
   "cell_type": "markdown",
   "metadata": {},
   "source": [
    "<h2>Selection Sort</h2>\n",
    "<ul>\n",
    "<li>Similar to bubble, but selects largest element</li>\n",
    "<li>imporves on bubble becauseo only one swap per pass</li>\n",
    "<li>push largest element to end</li>\n",
    "<li>repeat</li>\n",
    "</ul>"
   ]
  },
  {
   "cell_type": "code",
   "execution_count": 48,
   "metadata": {
    "collapsed": false
   },
   "outputs": [],
   "source": [
    "def selection_sort(arr):\n",
    "    for n in range(len(arr)-1,0,-1):\n",
    "        max_pos = 0\n",
    "        for i in range(1,n+1):\n",
    "            if arr[i] > arr[max_pos]:\n",
    "                max_pos = i\n",
    "        arr[n], arr[max_pos] = arr[max_pos], arr[n]\n",
    "        #temp = arr[n]\n",
    "        #arr[n] = arr[max_pos]\n",
    "        #arr[max_pos] = temp\n",
    "        \n",
    "        "
   ]
  },
  {
   "cell_type": "markdown",
   "metadata": {},
   "source": [
    "<h2>Insertion Sort</h2>\n",
    "<ul>\n",
    "<li>maintains sorted sublist of sorted items</li>\n",
    "<li>for each item after, insert into this sorted sublist</li>\n",
    "</ul>"
   ]
  },
  {
   "cell_type": "code",
   "execution_count": 49,
   "metadata": {
    "collapsed": true
   },
   "outputs": [],
   "source": [
    "def insertion_sort(arr):\n",
    "    for i in range(1,len(arr)):\n",
    "        val = arr[i]\n",
    "        pos = i\n",
    "        while pos > 0 and arr[pos-1] > val:\n",
    "            arr[pos] == arr[pos-1]\n",
    "            pos -= 1\n",
    "        arr[pos] = val"
   ]
  },
  {
   "cell_type": "markdown",
   "metadata": {},
   "source": [
    "<h2>Shell Sort</h2>\n",
    "<ul>\n",
    "<li>improves on insertion by breaking up sublist into smaller lists</li>\n",
    "<li>sublists are chosen by skipping a certain number of items</li>\n",
    "</ul>"
   ]
  },
  {
   "cell_type": "code",
   "execution_count": 61,
   "metadata": {
    "collapsed": false
   },
   "outputs": [],
   "source": [
    "def shell_sort(arr):\n",
    "    \n",
    "    sublistcount = len(arr) // 2\n",
    "    while sublistcount > 0:\n",
    "        for start in range(sublistcount):\n",
    "            gap_insertion_sort(arr,start,sublistcount)\n",
    "        \n",
    "        print('After increments of size: ', sublistcount)\n",
    "        print('list is: ', arr)\n",
    "        sublistcount = sublistcount // 2\n",
    "\n",
    "def gap_insertion_sort(arr,start,gap):\n",
    "    for i in range(start+gap,len(arr),gap):\n",
    "        currentvalue = arr[i]\n",
    "        position = i\n",
    "        \n",
    "        while position >= gap and arr[position-gap] > currentvalue:\n",
    "            arr[position],position = arr[position-gap],position-gap\n",
    "        arr[position] = currentvalue\n",
    "        "
   ]
  },
  {
   "cell_type": "code",
   "execution_count": 64,
   "metadata": {
    "collapsed": false
   },
   "outputs": [
    {
     "name": "stdout",
     "output_type": "stream",
     "text": [
      "After increments of size:  5\n",
      "list is:  [0, 4, 3, 2, 1, 5, 9, 8, 7, 6, 10]\n",
      "After increments of size:  2\n",
      "list is:  [0, 2, 1, 4, 3, 5, 7, 6, 9, 8, 10]\n",
      "After increments of size:  1\n",
      "list is:  [0, 1, 2, 3, 4, 5, 6, 7, 8, 9, 10]\n"
     ]
    },
    {
     "data": {
      "text/plain": [
       "[0, 1, 2, 3, 4, 5, 6, 7, 8, 9, 10]"
      ]
     },
     "execution_count": 64,
     "metadata": {},
     "output_type": "execute_result"
    }
   ],
   "source": [
    "arr= [i for i in range(10,-1,-1)]\n",
    "shell_sort(arr)\n",
    "arr"
   ]
  },
  {
   "cell_type": "markdown",
   "metadata": {},
   "source": [
    "<h2>Merge Sort</h2>\n",
    "<ul>\n",
    "<li>recursively divides list in half and sorts them</li>\n",
    "<li>then merge the sorted lists</li>\n",
    "</ul>"
   ]
  },
  {
   "cell_type": "code",
   "execution_count": 67,
   "metadata": {
    "collapsed": true
   },
   "outputs": [],
   "source": [
    "def merge_sort(arr):\n",
    "    if len(arr) > 1:\n",
    "        mid = len(arr) // 2\n",
    "        left = arr[:mid]\n",
    "        right= arr[mid:]\n",
    "        \n",
    "        merge_sort(left)\n",
    "        merge_sort(right)\n",
    "        \n",
    "        i,j,k = 0,0,0\n",
    "        \n",
    "        #merge two lists\n",
    "        while i < len(left) and j < len(right):\n",
    "            if left[i] < right[j]:\n",
    "                arr[k] = left[i]\n",
    "                i += 1\n",
    "            else:\n",
    "                arr[k] = right[j]\n",
    "                j += 1\n",
    "            k += 1\n",
    "        \n",
    "        #finish putting any leftovers in\n",
    "        while i < len(left):\n",
    "            arr[k] = left[i]\n",
    "            i += 1\n",
    "            k += 1\n",
    "        while j < len(right):\n",
    "            arr[k] = right[j]\n",
    "            j += 1\n",
    "            k += 1\n",
    "            "
   ]
  },
  {
   "cell_type": "markdown",
   "metadata": {},
   "source": [
    "<h2>Quick Sort</h2>\n",
    "<ul>\n",
    "<li>uses divide and conquer</li>\n",
    "<li>does not need additional storage</li>\n",
    "<li>chooses pivot, then put everythin smaller to left, larger to right</li>\n",
    "<li>recursive call left side and right side with new pivots</li>\n",
    "\n",
    "</ul>\n"
   ]
  },
  {
   "cell_type": "code",
   "execution_count": 70,
   "metadata": {
    "collapsed": true
   },
   "outputs": [],
   "source": [
    "def quick_sort(arr):\n",
    "    quick_sort_helper(arr,0,len(arr)-1)\n",
    "\n",
    "def quick_sort_helper(arr,first,last):\n",
    "    if first < last:\n",
    "        splitpoint = partition(arr,first,last)\n",
    "        quick_sort_helper(arr, first, splitpoint -1)\n",
    "        quick_sort_helper(arr, splitpoint + 1, last)\n",
    "        \n",
    "\n",
    "def partition(arr,first,last):\n",
    "    pivot = arr[first]\n",
    "    left = first+1\n",
    "    right = last\n",
    "    done = False\n",
    "    \n",
    "    while not done:\n",
    "        while left <= right and arr[left] <= pivot:\n",
    "            left += 1\n",
    "        while right >= left and arr[right] >= pivot:\n",
    "            right -= 1\n",
    "        if right < left:\n",
    "            done = True\n",
    "        else:\n",
    "            arr[left], arr[right] = arr[right], arr[left]\n",
    "    #now right is at split point (where the pivot is put)\n",
    "    arr[first], arr[right] = arr[right], arr[first]\n",
    "    return right\n",
    "    "
   ]
  },
  {
   "cell_type": "code",
   "execution_count": 71,
   "metadata": {
    "collapsed": false
   },
   "outputs": [
    {
     "data": {
      "text/plain": [
       "[-234, -4, 1, 2, 3, 23, 45, 234]"
      ]
     },
     "execution_count": 71,
     "metadata": {},
     "output_type": "execute_result"
    }
   ],
   "source": [
    "arr = [ 23, 3, 45, 234, 1, 2, -234,-4]\n",
    "quick_sort(arr)\n",
    "arr"
   ]
  },
  {
   "cell_type": "code",
   "execution_count": null,
   "metadata": {
    "collapsed": true
   },
   "outputs": [],
   "source": []
  }
 ],
 "metadata": {
  "kernelspec": {
   "display_name": "Python 3",
   "language": "python",
   "name": "python3"
  },
  "language_info": {
   "codemirror_mode": {
    "name": "ipython",
    "version": 3
   },
   "file_extension": ".py",
   "mimetype": "text/x-python",
   "name": "python",
   "nbconvert_exporter": "python",
   "pygments_lexer": "ipython3",
   "version": "3.6.0"
  }
 },
 "nbformat": 4,
 "nbformat_minor": 2
}
