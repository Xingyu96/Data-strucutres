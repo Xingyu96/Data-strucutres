{
 "cells": [
  {
   "cell_type": "markdown",
   "metadata": {},
   "source": [
    "<h3 id=\"Problem-1\">Problem 1</h3>\n",
    "<p><strong>Write a recursive function which takes an integer and computes the cumulative sum of 0 to that integer</strong></p>\n",
    "<p><strong>For example, if n=4 , return 4+3+2+1+0, which is 10.</strong></p>\n",
    "<p>This problem is very similar to the factorial problem presented during the introduction to recursion. Remember, always think of what the base case will look like. In this case, we have a base case of n =0 (Note, you could have also designed the cut off to be 1).</p>\n",
    "<p>In this case, we have: n + (n-1) + (n-2) + .... + 0</p>\n",
    "<p>Fill out a sample solution:</p>"
   ]
  },
  {
   "cell_type": "code",
   "execution_count": 5,
   "metadata": {
    "collapsed": false
   },
   "outputs": [],
   "source": [
    "def rect_sum(n):\n",
    "    #base case\n",
    "    if n == 1:\n",
    "        return 1\n",
    "    #recursive case\n",
    "    else:\n",
    "        return n + rect_sum(n-1)"
   ]
  },
  {
   "cell_type": "code",
   "execution_count": 6,
   "metadata": {
    "collapsed": false
   },
   "outputs": [
    {
     "data": {
      "text/plain": [
       "15"
      ]
     },
     "execution_count": 6,
     "metadata": {},
     "output_type": "execute_result"
    }
   ],
   "source": [
    "rect_sum(5)"
   ]
  },
  {
   "cell_type": "markdown",
   "metadata": {},
   "source": [
    "<hr />\n",
    "<h3 id=\"Problem-2\">Problem 2</h3>\n",
    "<p><strong>Given an integer, create a function which returns the sum of all the individual digits in that integer. For example: if n = 4321, return 4+3+2+1</strong></p>"
   ]
  },
  {
   "cell_type": "code",
   "execution_count": 28,
   "metadata": {
    "collapsed": true
   },
   "outputs": [],
   "source": [
    "def sum_func(n):\n",
    "    #base case\n",
    "    if len(str(n)) == 1:\n",
    "        return n\n",
    "    #requires conversion to char array (or string) first\n",
    "    #then iterate, strip, covert back to int, you get the point etc.\n",
    "    else:\n",
    "        num_string = str(n)\n",
    "        remain_string = \"\"\n",
    "        for ch in num_string[:len(num_string)-1]:\n",
    "            remain_string += ch\n",
    "        remove_string = num_string[len(num_string)-1]\n",
    "        #remainder case\n",
    "        return int(remove_string) + sum_func(int(remain_string))\n",
    "    \n",
    "#OR A BETTER WAY BY USING MOD YOU DIPSHIT\n",
    "def sum_func2(n):\n",
    "    #base case:\n",
    "    if n % 10 == 0:\n",
    "        return n\n",
    "    else:\n",
    "        return ( n % 10 ) + sum_func2( int(n/10) )"
   ]
  },
  {
   "cell_type": "code",
   "execution_count": 30,
   "metadata": {
    "collapsed": false
   },
   "outputs": [
    {
     "name": "stdout",
     "output_type": "stream",
     "text": [
      "21\n",
      "21\n"
     ]
    }
   ],
   "source": [
    "print(sum_func(23124234))\n",
    "print(sum_func2(23124234))"
   ]
  },
  {
   "cell_type": "markdown",
   "metadata": {},
   "source": [
    "<hr />\n",
    "<h3 id=\"Problem-3\">Problem 3</h3>\n",
    "<p><em>Note, this is a more advanced problem than the previous two! It aso has a lot of variation possibilities and we're ignoring strict requirements here.</em></p>\n",
    "<p>Create a function called word_split() which takes in a string <strong>phrase</strong> and a set <strong>list_of_words</strong>. The function will then determine if it is possible to split the string in a way in which words can be made from the list of words. You can assume the phrase will only contain words found in the dictionary if it is completely splittable.</p>\n",
    "<p>For example:</p>"
   ]
  },
  {
   "cell_type": "code",
   "execution_count": 153,
   "metadata": {
    "collapsed": false
   },
   "outputs": [],
   "source": [
    "def word_split(string, word_array):\n",
    "    #base case\n",
    "    if len(word_array) == 1:\n",
    "        to_find = word_array.pop()\n",
    "        if string == to_find:\n",
    "            return [string]\n",
    "        else:\n",
    "            return []\n",
    "    \n",
    "    #iterative case\n",
    "    else:\n",
    "        to_find = word_array.pop()\n",
    "        if string.find(to_find) != -1:\n",
    "            returned_string = word_split(string.replace(to_find,\"\"),word_array)\n",
    "            if returned_string == []:\n",
    "                return []\n",
    "            else:\n",
    "                return [to_find] + returned_string \n",
    "        else:\n",
    "            returned_string = word_split(string,word_array)\n",
    "            if returned_string == []:\n",
    "                return []\n",
    "            else:\n",
    "                return returned_string\n",
    "            \n",
    "def word_split2(phrase, list_of_words, output = None):\n",
    "    if output == None:\n",
    "        output = []\n",
    "    for word in list_of_words:\n",
    "        if phrase.startswith(word):\n",
    "            output.append(word)\n",
    "            return word_split(phrase[len(word):],list_of_words, output)\n",
    "    \n",
    "    return output\n",
    "        \n",
    "        \n",
    "    \n",
    "    \n",
    "        "
   ]
  },
  {
   "cell_type": "code",
   "execution_count": 120,
   "metadata": {
    "collapsed": true
   },
   "outputs": [],
   "source": [
    "#iterative\n",
    "def word_split(string, word_array):\n",
    "    return_array = []\n",
    "    while len(word_array) != 0:\n",
    "        string_to_find = word_array.pop()\n",
    "        if string.find(string_to_find) != -1:\n",
    "            string = string.replace(string_to_find, \"\")\n",
    "            return_array.append(string_to_find)\n",
    "    if len(string) != 0:\n",
    "        return []\n",
    "    else:\n",
    "        return return_array\n",
    "        "
   ]
  },
  {
   "cell_type": "code",
   "execution_count": 157,
   "metadata": {
    "collapsed": true
   },
   "outputs": [],
   "source": [
    "#STUDY!\n",
    "def word_split(string, word_array, output = None):\n",
    "    if output == None:\n",
    "        output = []\n",
    "    for word in word_array:\n",
    "        if string.startswith(word):\n",
    "            output.append(word)\n",
    "            return word_split(string[len(word):],word_array, output)\n",
    "    return output"
   ]
  },
  {
   "cell_type": "code",
   "execution_count": 158,
   "metadata": {
    "collapsed": false
   },
   "outputs": [
    {
     "name": "stdout",
     "output_type": "stream",
     "text": [
      "['the', 'man', 'ran']\n"
     ]
    }
   ],
   "source": [
    "print(word_split('themanran',['the','ran','man']))"
   ]
  },
  {
   "cell_type": "code",
   "execution_count": 159,
   "metadata": {
    "collapsed": false
   },
   "outputs": [
    {
     "data": {
      "text/plain": [
       "['i', 'love', 'dogs', 'John']"
      ]
     },
     "execution_count": 159,
     "metadata": {},
     "output_type": "execute_result"
    }
   ],
   "source": [
    "word_split('ilovedogsJohn',['i','am','a','dogs','lover','love','John'])\n"
   ]
  },
  {
   "cell_type": "code",
   "execution_count": 160,
   "metadata": {
    "collapsed": false
   },
   "outputs": [
    {
     "data": {
      "text/plain": [
       "[]"
      ]
     },
     "execution_count": 160,
     "metadata": {},
     "output_type": "execute_result"
    }
   ],
   "source": [
    "word_split('themanran',['clown','ran','man'])"
   ]
  },
  {
   "cell_type": "code",
   "execution_count": null,
   "metadata": {
    "collapsed": true
   },
   "outputs": [],
   "source": []
  },
  {
   "cell_type": "code",
   "execution_count": null,
   "metadata": {
    "collapsed": true
   },
   "outputs": [],
   "source": []
  }
 ],
 "metadata": {
  "kernelspec": {
   "display_name": "Python 3",
   "language": "python",
   "name": "python3"
  },
  "language_info": {
   "codemirror_mode": {
    "name": "ipython",
    "version": 3
   },
   "file_extension": ".py",
   "mimetype": "text/x-python",
   "name": "python",
   "nbconvert_exporter": "python",
   "pygments_lexer": "ipython3",
   "version": "3.6.0"
  }
 },
 "nbformat": 4,
 "nbformat_minor": 2
}
