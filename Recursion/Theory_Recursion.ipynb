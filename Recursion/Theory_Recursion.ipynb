{
 "cells": [
  {
   "cell_type": "markdown",
   "metadata": {},
   "source": [
    "<h2 id=\"What-is-Recursion?\">What is Recursion?</h2>\n",
    "<p>There are two main types of recursion:</p>\n",
    "<ol>\n",
    "<li>**Memoization:**\n",
    "<ul>\n",
    "<li>Store already calculated results in structure for easier reference</li>\n",
    "</ul>\n",
    "</li>\n",
    "<li>**Iteration:**\n",
    "<ul>\n",
    "<li>Repeatedly calling itself</li>\n",
    "</ul>\n",
    "</li>\n",
    "</ol>\n",
    "<h2>Why use Recursion? Examples of recursion use cases</h2>\n",
    "<h3>Classic Example: Factorial</h3>\n",
    "<p>**Base Cases:**<p>\n",
    "$$n = 0 \\rightarrow n! = 1$$\n",
    "<p>**Recursive Cases:**</p>\n",
    "\n",
    "$$n!=n\\times(n-1)!$$"
   ]
  },
  {
   "cell_type": "code",
   "execution_count": 6,
   "metadata": {
    "collapsed": true
   },
   "outputs": [],
   "source": [
    "def fact(n):\n",
    "    #base case\n",
    "    if n == 0:\n",
    "        return 1\n",
    "    #recursive case\n",
    "    else:\n",
    "        return n * fact(n-1)"
   ]
  },
  {
   "cell_type": "code",
   "execution_count": 7,
   "metadata": {
    "collapsed": false
   },
   "outputs": [
    {
     "data": {
      "text/plain": [
       "120"
      ]
     },
     "execution_count": 7,
     "metadata": {},
     "output_type": "execute_result"
    }
   ],
   "source": [
    "fact(5)"
   ]
  },
  {
   "cell_type": "code",
   "execution_count": null,
   "metadata": {
    "collapsed": true
   },
   "outputs": [],
   "source": []
  }
 ],
 "metadata": {
  "kernelspec": {
   "display_name": "Python 3",
   "language": "python",
   "name": "python3"
  },
  "language_info": {
   "codemirror_mode": {
    "name": "ipython",
    "version": 3
   },
   "file_extension": ".py",
   "mimetype": "text/x-python",
   "name": "python",
   "nbconvert_exporter": "python",
   "pygments_lexer": "ipython3",
   "version": "3.6.0"
  }
 },
 "nbformat": 4,
 "nbformat_minor": 2
}
