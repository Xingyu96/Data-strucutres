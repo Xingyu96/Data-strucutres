{
 "cells": [
  {
   "cell_type": "code",
   "execution_count": 149,
   "metadata": {
    "collapsed": true
   },
   "outputs": [],
   "source": [
    "def fib_recursive(n):\n",
    "    if n == 0:\n",
    "        return 0\n",
    "    if n == 1:\n",
    "        return 1\n",
    "    else:\n",
    "        return fib_recursive(n-1) + fib_recursive(n-2)"
   ]
  },
  {
   "cell_type": "code",
   "execution_count": 178,
   "metadata": {
    "collapsed": false
   },
   "outputs": [],
   "source": [
    "result = [None] * 1000\n",
    "\n",
    "def fib_dynamic(n):\n",
    "    \n",
    "    if n == 0:\n",
    "        result[n] = 0\n",
    "        return 0\n",
    "    elif n == 1:\n",
    "        result[n] = 1\n",
    "        return 1\n",
    "    elif result[n] != None:\n",
    "        return result[n]\n",
    "    else:\n",
    "        result[n] = fib_dynamic(n-1) + fib_dynamic(n-2)\n",
    "        return result[n]"
   ]
  },
  {
   "cell_type": "code",
   "execution_count": 179,
   "metadata": {
    "collapsed": false
   },
   "outputs": [],
   "source": [
    "def fib_iterative(n):\n",
    "    if n <= 2:\n",
    "        return 1\n",
    "    n1 = 1\n",
    "    n2 = 1\n",
    "    fib = 0\n",
    "    for i in range(2,n):\n",
    "        fib = n1 + n2\n",
    "        n1 = n2\n",
    "        n2 = fib\n",
    "    return fib\n",
    "        "
   ]
  },
  {
   "cell_type": "code",
   "execution_count": 190,
   "metadata": {
    "collapsed": false
   },
   "outputs": [
    {
     "data": {
      "image/png": "[encoded data removed]",
      "text/plain": [
       "<matplotlib.figure.Figure at 0x1bf88974898>"
      ]
     },
     "metadata": {},
     "output_type": "display_data"
    }
   ],
   "source": [
    "import numpy as np\n",
    "import time\n",
    "import matplotlib.pyplot as plt\n",
    "import matplotlib\n",
    "recursive = []\n",
    "iterative = []\n",
    "dynamic = []\n",
    "test = 32\n",
    "x = np.arange(test)\n",
    "\n",
    "for n in range(0,test):\n",
    "    start = time.time()\n",
    "    fib_recursive(n)\n",
    "    end = time.time()\n",
    "    recursive.append(end - start)\n",
    "    \n",
    "    start = time.time()\n",
    "    fib_iterative(n)\n",
    "    end = time.time()\n",
    "    iterative.append(end - start)\n",
    "    \n",
    "    start = time.time()\n",
    "    fib_dynamic(n)\n",
    "    end = time.time()\n",
    "    dynamic.append(end - start)\n",
    "\n",
    "plt.plot(x,recursive,x,iterative,x,dynamic)\n",
    "plt.show()\n",
    "\n",
    "    \n"
   ]
  },
  {
   "cell_type": "code",
   "execution_count": 161,
   "metadata": {
    "collapsed": false
   },
   "outputs": [
    {
     "name": "stdout",
     "output_type": "stream",
     "text": [
      "recursive: 55\n",
      "dynamic: 55\n",
      "iterative: 55\n",
      "\n"
     ]
    }
   ],
   "source": [
    "n = 10\n",
    "print( \"recursive: \" + str(fib_recursive(n)) + \"\\n\"\n",
    "      +\"dynamic: \" + str(fib_dynamic(n)) + \"\\n\"\n",
    "      +\"iterative: \" + str(fib_iterative(n)) + \"\\n\")"
   ]
  },
  {
   "cell_type": "code",
   "execution_count": 67,
   "metadata": {
    "collapsed": false
   },
   "outputs": [
    {
     "data": {
      "text/plain": [
       "8"
      ]
     },
     "execution_count": 67,
     "metadata": {},
     "output_type": "execute_result"
    }
   ],
   "source": [
    "fib_dynamic(4)"
   ]
  },
  {
   "cell_type": "code",
   "execution_count": 68,
   "metadata": {
    "collapsed": false
   },
   "outputs": [
    {
     "data": {
      "text/plain": [
       "6"
      ]
     },
     "execution_count": 68,
     "metadata": {},
     "output_type": "execute_result"
    }
   ],
   "source": [
    "fib_iterative(4)"
   ]
  },
  {
   "cell_type": "code",
   "execution_count": null,
   "metadata": {
    "collapsed": true
   },
   "outputs": [],
   "source": []
  }
 ],
 "metadata": {
  "kernelspec": {
   "display_name": "Python 3",
   "language": "python",
   "name": "python3"
  },
  "language_info": {
   "codemirror_mode": {
    "name": "ipython",
    "version": 3
   },
   "file_extension": ".py",
   "mimetype": "text/x-python",
   "name": "python",
   "nbconvert_exporter": "python",
   "pygments_lexer": "ipython3",
   "version": "3.6.0"
  }
 },
 "nbformat": 4,
 "nbformat_minor": 2
}
