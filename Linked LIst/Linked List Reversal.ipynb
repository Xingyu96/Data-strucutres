{
 "cells": [
  {
   "cell_type": "code",
   "execution_count": 24,
   "metadata": {
    "collapsed": true
   },
   "outputs": [],
   "source": [
    "class Node(object):\n",
    "    def __init__(self, value):\n",
    "        self.value = value\n",
    "        self.nextnode = None"
   ]
  },
  {
   "cell_type": "code",
   "execution_count": 25,
   "metadata": {
    "collapsed": true
   },
   "outputs": [],
   "source": [
    "#runtime complexity is O(3n + k) = O(n)\n",
    "def reverse2(head):\n",
    "    node_list = list()\n",
    "    \n",
    "    #traverse linked list, saving seen nodes in node_list\n",
    "    while head.nextnode != None:\n",
    "        node_list.append(head)\n",
    "        head = head.nextnode\n",
    "        \n",
    "    #last node becomes new head\n",
    "    newhead = head\n",
    "    head.nextnode = node_list[len(node_list) - 1]\n",
    "    \n",
    "    #reverse order of nodes by popping off of node list and ammending nextnode\n",
    "    while(len(node_list) > 1):\n",
    "        cur_node = node_list.pop()\n",
    "        cur_node.nextnode = node_list[len(node_list) - 1]\n",
    "        cur_node = cur_node.nextnode\n",
    "    \n",
    "    #last node's nextnode is None\n",
    "    node_list[0].nextnode = None\n",
    "    \n",
    "    return newhead\n",
    "\n",
    "#Better version: Uses 3 tracking variables - O(1)\n",
    "def reverse(head):\n",
    "    next_node = None\n",
    "    cur_node = head\n",
    "    prev_node = None\n",
    "    \n",
    "    while cur_node != None:\n",
    "        next_node = cur_node.nextnode\n",
    "        cur_node.nextnode = prev_node\n",
    "        prev_node = cur_node\n",
    "        cur_node = next_node\n",
    "    \n",
    "    return prev_node\n",
    "    \n",
    "    \n",
    "    \n",
    "    "
   ]
  },
  {
   "cell_type": "code",
   "execution_count": 26,
   "metadata": {
    "collapsed": false
   },
   "outputs": [
    {
     "name": "stdout",
     "output_type": "stream",
     "text": [
      "2\n",
      "3\n",
      "4\n"
     ]
    }
   ],
   "source": [
    "# Create a list of 4 nodes\n",
    "a = Node(1)\n",
    "b = Node(2)\n",
    "c = Node(3)\n",
    "d = Node(4)\n",
    "\n",
    "# Set up order a,b,c,d with values 1,2,3,4\n",
    "a.nextnode = b\n",
    "b.nextnode = c\n",
    "c.nextnode = d\n",
    "\n",
    "print (a.nextnode.value)\n",
    "print (b.nextnode.value)\n",
    "print (c.nextnode.value)"
   ]
  },
  {
   "cell_type": "code",
   "execution_count": 27,
   "metadata": {
    "collapsed": false
   },
   "outputs": [
    {
     "data": {
      "text/plain": [
       "<__main__.Node at 0x1b09b72a128>"
      ]
     },
     "execution_count": 27,
     "metadata": {},
     "output_type": "execute_result"
    }
   ],
   "source": [
    "reverse(a)"
   ]
  },
  {
   "cell_type": "code",
   "execution_count": 28,
   "metadata": {
    "collapsed": false
   },
   "outputs": [
    {
     "name": "stdout",
     "output_type": "stream",
     "text": [
      "3\n",
      "2\n",
      "1\n"
     ]
    }
   ],
   "source": [
    "print (d.nextnode.value)\n",
    "print (c.nextnode.value)\n",
    "print (b.nextnode.value)"
   ]
  },
  {
   "cell_type": "code",
   "execution_count": null,
   "metadata": {
    "collapsed": true
   },
   "outputs": [],
   "source": []
  }
 ],
 "metadata": {
  "kernelspec": {
   "display_name": "Python 3",
   "language": "python",
   "name": "python3"
  }
 },
 "nbformat": 4,
 "nbformat_minor": 2
}
