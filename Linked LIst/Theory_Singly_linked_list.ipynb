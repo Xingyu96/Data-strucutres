{
 "cells": [
  {
   "cell_type": "markdown",
   "metadata": {},
   "source": [
    "<h1>Singly Linked List</h1>\n",
    "<hr/>\n",
    "\n",
    "<h2>Definition</h2>\n",
    "<ol>\n",
    "<li>collection of **nodes** that form a linear sequence</li>\n",
    "<li>each node stores a **reference** to the **object** that it represents, as well as a **reference** to the **next node in the list**</li>\n",
    "<li>also contains **references** to **head(first)** node in list and **tail(last)** node in list</li>\n",
    "<li>**tail node** must point to **null**</li>\n",
    "</ol>\n",
    "\n",
    "<table style=\"width: 100%; border: none\">\n",
    "<tbody>\n",
    "<tr>\n",
    "<td style=\"width: 221px;\"><strong>Pros</strong></td>\n",
    "<td style=\"width: 221px;\"><strong>Cons</strong></td>\n",
    "</tr>\n",
    "<tr>\n",
    "<td style=\"width: 221px;\">\n",
    "<ul>\n",
    "<li>O(1) for inserting at head/tail\n",
    "<ul>\n",
    "<li>O(n) for arrays</li>\n",
    "</ul>\n",
    "</li>\n",
    "<li>Since a singly linked list **does not have a fixed size**, it uses space **proportionally** to its current number of elements (opposed to arrays which are initialized with more space)</li>\n",
    "</ul>\n",
    "</td>\n",
    "<td style=\"width: 221px;\">\n",
    "<ul>\n",
    "<li>O(n) for accessing elements\n",
    "<ul>\n",
    "<li>O(1) for arrays</li>\n",
    "</ul>\n",
    "</li>\n",
    "</ul>\n",
    "</td>\n",
    "</tr>\n",
    "</tbody>\n",
    "</table>\n",
    "\n",
    "<h2>Operations</h2>\n",
    "\n",
    "<ul>\n",
    "<li>**Inserting at head** is easy:\n",
    "<ol>\n",
    "<li>create a new node</li>\n",
    "<li>set its element to the new element</li>\n",
    "<li>set its next link to current head node</li>\n",
    "<li>set list's head to new node</li>\n",
    "</ol>\n",
    "</li>\n",
    "<li>**Inserting at tail** is also easy\n",
    "<ol>\n",
    "<li>create a new node</li>\n",
    "<li>assign its next reference to <strong>None</strong></li>\n",
    "<li>set the next reference of the tail to point to this new node</li>\n",
    "<li>then update the tail reference itself to this new node</li>\n",
    "</ol>\n",
    "</li>\n",
    "<li>\n",
    "However **deleting last element** is hard because you do not readily have access to the previous element (you need a **doubly linked list** for this\n",
    "</li>\n",
    "</ul>\n",
    "\n",
    "\n",
    "<h2>Uses</h2>\n",
    "<ol>\n",
    "<li>Flight itinerary</li>\n",
    "</ol>\n",
    "\n",
    "<h2>Implementation</h2>"
   ]
  },
  {
   "cell_type": "code",
   "execution_count": 10,
   "metadata": {
    "collapsed": false
   },
   "outputs": [
    {
     "ename": "IndentationError",
     "evalue": "expected an indented block (<ipython-input-10-5e69a4824cba>, line 34)",
     "output_type": "error",
     "traceback": [
      "\u001b[0;36m  File \u001b[0;32m\"<ipython-input-10-5e69a4824cba>\"\u001b[0;36m, line \u001b[0;32m34\u001b[0m\n\u001b[0;31m    def delete_tail(self):\u001b[0m\n\u001b[0m      ^\u001b[0m\n\u001b[0;31mIndentationError\u001b[0m\u001b[0;31m:\u001b[0m expected an indented block\n"
     ]
    }
   ],
   "source": [
    "class Node(object):\n",
    "    def __init__(self, value):\n",
    "        self.value = value\n",
    "        self.nextnode = None\n",
    "        \n",
    "#for some reason he doesn't do that...\n",
    "class SinglyLinkedList(object):\n",
    "    def __init__(self):\n",
    "        self.head = None\n",
    "        self.tail = None\n",
    "    \n",
    "    def insert_head(self, item):\n",
    "        new_node = Node(item)\n",
    "        #if head is None, list is empty\n",
    "        if self.head == None:\n",
    "            self.head = new_node\n",
    "            self.tail = new_node\n",
    "        else:\n",
    "            new_node.nextnode = self.head\n",
    "            self.head = new_node\n",
    "    \n",
    "    def insert_tail(self, item):\n",
    "        new_node = Node(item)\n",
    "        if self.tail == None:\n",
    "            self.head = new_node\n",
    "            self.tail = new_node\n",
    "        else:\n",
    "            #new_node.nextnode = None\n",
    "            self.tail.nextnode = new_node\n",
    "            self.tail = new_node\n",
    "        \n",
    "        \n",
    "    def delete_head(self):\n",
    "    \n",
    "    def delete_tail(self):\n",
    "        \n",
    "        "
   ]
  },
  {
   "cell_type": "code",
   "execution_count": 6,
   "metadata": {
    "collapsed": true
   },
   "outputs": [],
   "source": [
    "a = Node(2,None)\n",
    "b = Node(1,a)"
   ]
  },
  {
   "cell_type": "code",
   "execution_count": 7,
   "metadata": {
    "collapsed": false
   },
   "outputs": [
    {
     "data": {
      "text/plain": [
       "1"
      ]
     },
     "execution_count": 7,
     "metadata": {},
     "output_type": "execute_result"
    }
   ],
   "source": [
    "b.value"
   ]
  },
  {
   "cell_type": "code",
   "execution_count": 8,
   "metadata": {
    "collapsed": false
   },
   "outputs": [
    {
     "data": {
      "text/plain": [
       "2"
      ]
     },
     "execution_count": 8,
     "metadata": {},
     "output_type": "execute_result"
    }
   ],
   "source": [
    "a.value"
   ]
  },
  {
   "cell_type": "code",
   "execution_count": 9,
   "metadata": {
    "collapsed": false
   },
   "outputs": [
    {
     "data": {
      "text/plain": [
       "2"
      ]
     },
     "execution_count": 9,
     "metadata": {},
     "output_type": "execute_result"
    }
   ],
   "source": [
    "b.next_node.value"
   ]
  },
  {
   "cell_type": "code",
   "execution_count": null,
   "metadata": {
    "collapsed": true
   },
   "outputs": [],
   "source": []
  }
 ],
 "metadata": {
  "kernelspec": {
   "display_name": "Python 3",
   "language": "python",
   "name": "python3"
  },
  "language_info": {
   "codemirror_mode": {
    "name": "ipython",
    "version": 3
   },
   "file_extension": ".py",
   "mimetype": "text/x-python",
   "name": "python",
   "nbconvert_exporter": "python",
   "pygments_lexer": "ipython3",
   "version": "3.6.0"
  }
 },
 "nbformat": 4,
 "nbformat_minor": 2
}
