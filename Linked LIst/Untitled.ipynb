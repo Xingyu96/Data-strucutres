{
 "cells": [
  {
   "cell_type": "code",
   "execution_count": 34,
   "metadata": {
    "collapsed": true
   },
   "outputs": [],
   "source": [
    "class Node(object):\n",
    "    def __init__(self, value):\n",
    "        self.value = value\n",
    "        self.nextnode = None"
   ]
  },
  {
   "cell_type": "code",
   "execution_count": 46,
   "metadata": {
    "collapsed": true
   },
   "outputs": [],
   "source": [
    "#my version, using 2 passses\n",
    "def nth_to_last_node(n,head):\n",
    "    length = 1\n",
    "    cur_node = head\n",
    "    while cur_node != None:\n",
    "        cur_node = cur_node.nextnode\n",
    "        length += 1\n",
    "    index = length - n - 1\n",
    "    \n",
    "    for i in range(index):\n",
    "        head = head.nextnode\n",
    "    return head\n",
    "\n",
    "#textbook version, using block walking (same thing really)\n",
    "def nth_to_last_node2(n, head):\n",
    "    left = head\n",
    "    right = head\n",
    "    \n",
    "    for i in range(n-1):\n",
    "        if right.nextnode == None:\n",
    "            raise LookupError('n is greater than length of list!')\n",
    "        else: \n",
    "            right = right.nextnode\n",
    "    \n",
    "    while right.nextnode != None:\n",
    "        right = right.nextnode\n",
    "        left = left.nextnode\n",
    "    return left\n",
    "    \n"
   ]
  },
  {
   "cell_type": "code",
   "execution_count": 48,
   "metadata": {
    "collapsed": false
   },
   "outputs": [
    {
     "name": "stdout",
     "output_type": "stream",
     "text": [
      "4\n",
      "4\n"
     ]
    }
   ],
   "source": [
    "a = Node(1)\n",
    "b = Node(2)\n",
    "c = Node(3)\n",
    "d = Node(4)\n",
    "e = Node(5)\n",
    "\n",
    "a.nextnode = b\n",
    "b.nextnode = c\n",
    "c.nextnode = d\n",
    "d.nextnode = e\n",
    "\n",
    "# This would return the node d with a value of 4, because its the 2nd to last node.\n",
    "target_node = nth_to_last_node(2, a) \n",
    "print(target_node.value)\n",
    "target_node = nth_to_last_node2(2, a) \n",
    "print(target_node.value)"
   ]
  },
  {
   "cell_type": "code",
   "execution_count": null,
   "metadata": {
    "collapsed": true
   },
   "outputs": [],
   "source": []
  }
 ],
 "metadata": {
  "kernelspec": {
   "display_name": "Python 3",
   "language": "python",
   "name": "python3"
  },
  "language_info": {
   "codemirror_mode": {
    "name": "ipython",
    "version": 3
   },
   "file_extension": ".py",
   "mimetype": "text/x-python",
   "name": "python",
   "nbconvert_exporter": "python",
   "pygments_lexer": "ipython3",
   "version": "3.6.0"
  }
 },
 "nbformat": 4,
 "nbformat_minor": 2
}
