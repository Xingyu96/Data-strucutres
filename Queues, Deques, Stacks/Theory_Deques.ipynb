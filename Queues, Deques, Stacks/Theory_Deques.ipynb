{
 "cells": [
  {
   "cell_type": "markdown",
   "metadata": {},
   "source": [
    "<h1>Deques</h1>\n",
    "<hr/>\n",
    "\n",
    "<h2>Definition</h2>\n",
    "<ol>\n",
    "<li>Ordered Collection</li>\n",
    "<li>\"Double ended queue\"</li>\n",
    "<li>Can add/remove elements from both ends</li>\n",
    "<li>Front vs. Rear</li>\n",
    "<li>Because it is double ended, does not enforce LIFO or FIFO</li>\n",
    "</ol>\n",
    "\n",
    "<h2>Operations</h2>\n",
    "<ol>\n",
    "<li>Deque() creates a new deque that is empty. It needs no parameters and returns an empty deque.</li>\n",
    "<li>addFront(item) adds a new item to the front of the deque. It needs the item and returns nothing.</li>\n",
    "<li>addRear(item) adds a new item to the rear of the deque. It needs the item and returns nothing.</li>\n",
    "<li>removeFront() removes the front item from the deque. It needs no parameters and returns the item. The deque is modified.</li>\n",
    "<li>removeRear() removes the rear item from the deque. It needs no parameters and returns the item. The deque is modified.</li>\n",
    "<li>isEmpty() tests to see whether the deque is empty. It needs no parameters and returns a boolean value.</li>\n",
    "<li>size() returns the number of items in the deque. It needs no parameters and returns an integer.</li>\n",
    "</ol>\n",
    "\n",
    "<h2>Uses</h2>\n",
    "<ol>\n",
    "<li>Reversing the order of an input (LIFO property)</li>\n",
    "<li>Webpage History</li>\n",
    "</ol>\n",
    "\n",
    "<h2>Implementation</h2>"
   ]
  },
  {
   "cell_type": "code",
   "execution_count": 18,
   "metadata": {
    "collapsed": false
   },
   "outputs": [],
   "source": [
    "#my implementation\n",
    "class Deque(object):\n",
    "    def __init__(self):\n",
    "        self.items = []\n",
    "    def enqueue_front(self, item):\n",
    "        self.items.insert(0,item)\n",
    "    def dequeue_front(self):\n",
    "        del self.items[0]\n",
    "        #USE append instead\n",
    "        #self.items.pop(0)\n",
    "    def enqueue_back(self, item):\n",
    "        self.items.insert(len(self.items), item) \n",
    "        #USE append instead\n",
    "        #self.items.append(item)\n",
    "    def dequeue_back(self):\n",
    "        self.items.pop()\n",
    "    def isEmpty(self):\n",
    "        return self.items == []\n",
    "    def size(self):\n",
    "        return len(self.items)\n",
    "    "
   ]
  },
  {
   "cell_type": "code",
   "execution_count": 20,
   "metadata": {
    "collapsed": true
   },
   "outputs": [],
   "source": [
    "class Deque(object):\n",
    "    def __init__(self):\n",
    "        self.items = []\n",
    "    def addFront(self, item):\n",
    "        self.items.insert(0,item)\n",
    "    def removeFront(self):\n",
    "        del self.items[0]\n",
    "    def addRear(self, item):\n",
    "        self.items.append(item)\n",
    "    def removeRear(self):\n",
    "        self.items.pop()\n",
    "    def isEmpty(self):\n",
    "        return self.items == []\n",
    "    def size(self):\n",
    "        return len(self.items)"
   ]
  },
  {
   "cell_type": "code",
   "execution_count": 21,
   "metadata": {
    "collapsed": false
   },
   "outputs": [
    {
     "ename": "AttributeError",
     "evalue": "'Deque' object has no attribute 'enqueue_front'",
     "output_type": "error",
     "traceback": [
      "\u001b[0;31m---------------------------------------------------------------------------\u001b[0m",
      "\u001b[0;31mAttributeError\u001b[0m                            Traceback (most recent call last)",
      "\u001b[0;32m<ipython-input-21-b41d2fc2bf2f>\u001b[0m in \u001b[0;36m<module>\u001b[0;34m()\u001b[0m\n\u001b[1;32m      1\u001b[0m \u001b[0md\u001b[0m \u001b[1;33m=\u001b[0m \u001b[0mDeque\u001b[0m\u001b[1;33m(\u001b[0m\u001b[1;33m)\u001b[0m\u001b[1;33m\u001b[0m\u001b[0m\n\u001b[0;32m----> 2\u001b[0;31m \u001b[0md\u001b[0m\u001b[1;33m.\u001b[0m\u001b[0menqueue_front\u001b[0m\u001b[1;33m(\u001b[0m\u001b[1;36m1\u001b[0m\u001b[1;33m)\u001b[0m\u001b[1;33m\u001b[0m\u001b[0m\n\u001b[0m\u001b[1;32m      3\u001b[0m \u001b[0mprint\u001b[0m\u001b[1;33m(\u001b[0m\u001b[0md\u001b[0m\u001b[1;33m.\u001b[0m\u001b[0mitems\u001b[0m\u001b[1;33m)\u001b[0m\u001b[1;33m\u001b[0m\u001b[0m\n\u001b[1;32m      4\u001b[0m \u001b[0md\u001b[0m\u001b[1;33m.\u001b[0m\u001b[0menqueue_back\u001b[0m\u001b[1;33m(\u001b[0m\u001b[1;36m2\u001b[0m\u001b[1;33m)\u001b[0m\u001b[1;33m\u001b[0m\u001b[0m\n\u001b[1;32m      5\u001b[0m \u001b[0md\u001b[0m\u001b[1;33m.\u001b[0m\u001b[0menqueue_back\u001b[0m\u001b[1;33m(\u001b[0m\u001b[1;36m3\u001b[0m\u001b[1;33m)\u001b[0m\u001b[1;33m\u001b[0m\u001b[0m\n",
      "\u001b[0;31mAttributeError\u001b[0m: 'Deque' object has no attribute 'enqueue_front'"
     ]
    }
   ],
   "source": [
    "d = Deque()\n",
    "d.enqueue_front(1)\n",
    "print(d.items)\n",
    "d.enqueue_back(2)\n",
    "d.enqueue_back(3)\n",
    "print(d.items)\n",
    "d.dequeue_front()\n",
    "print(d.items)\n",
    "d.dequeue_back()\n",
    "print(d.items)\n",
    "print(d.size())\n",
    "d.dequeue_front()\n",
    "print(d.isEmpty())\n"
   ]
  },
  {
   "cell_type": "code",
   "execution_count": null,
   "metadata": {
    "collapsed": true
   },
   "outputs": [],
   "source": []
  }
 ],
 "metadata": {
  "kernelspec": {
   "display_name": "Python 3",
   "language": "python",
   "name": "python3"
  },
  "language_info": {
   "codemirror_mode": {
    "name": "ipython",
    "version": 3
   },
   "file_extension": ".py",
   "mimetype": "text/x-python",
   "name": "python",
   "nbconvert_exporter": "python",
   "pygments_lexer": "ipython3",
   "version": "3.6.0"
  }
 },
 "nbformat": 4,
 "nbformat_minor": 2
}
