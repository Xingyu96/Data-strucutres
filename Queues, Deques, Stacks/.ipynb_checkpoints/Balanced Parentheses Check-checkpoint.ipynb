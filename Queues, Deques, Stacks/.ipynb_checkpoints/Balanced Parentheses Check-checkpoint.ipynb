{
 "cells": [
  {
   "cell_type": "code",
   "execution_count": 83,
   "metadata": {
    "collapsed": false
   },
   "outputs": [],
   "source": [
    "class Stack(object):\n",
    "    def __init__(self):\n",
    "        self.items = []\n",
    "    def isEmpty(self):\n",
    "        return self.items == []\n",
    "    def size(self):\n",
    "        return len(self.items)\n",
    "    def push(self, item):\n",
    "        self.items.append(item)\n",
    "    def pop(self):\n",
    "        self.items.pop()\n",
    "    def peek(self):\n",
    "        return self.items[len(self.items)-1]\n",
    "    \n",
    "#my version - uses my own implementation of stack\n",
    "def balance_check(s):\n",
    "    #bracket_stack should only contain opening brackets\n",
    "    bracket_stack = Stack()\n",
    "    is_balanced = False\n",
    "    \n",
    "    #loop through whole string\n",
    "    for char in s:\n",
    "        \n",
    "        #push opening brackets onto stack\n",
    "        if char == '[' or char == '(' or char == '{':\n",
    "            bracket_stack.push(char)\n",
    "        \n",
    "        #if not opening, check if matches with last opening bracket\n",
    "        else:\n",
    "            #previous bracktes all matched, so return false\n",
    "            if bracket_stack.isEmpty():\n",
    "                is_balanced = False\n",
    "                break\n",
    "            #check match\n",
    "            elif char == ']':\n",
    "                is_balanced = bracket_stack.peek() == '['\n",
    "            elif char == '}':\n",
    "                is_balanced = bracket_stack.peek() == '{'\n",
    "            else:\n",
    "                is_balanced = bracket_stack.peek() == '('\n",
    "                \n",
    "            #if not match, return false, else pop matched open bracket from stack\n",
    "            if is_balanced == False:\n",
    "                return is_balanced\n",
    "            else:\n",
    "                bracket_stack.pop()\n",
    "    \n",
    "    #make sure all open brackets have been matched\n",
    "    is_balanced = bracket_stack.isEmpty()            \n",
    "    return is_balanced\n",
    "\n",
    "#texbook version\n",
    "def balance_check2(s):\n",
    "    \n",
    "    #edge cases check\n",
    "    if len(s)%2 != 0:\n",
    "        return False\n",
    "    opening = set('([{')\n",
    "    matches = set([('(',')'), ('[',']'), ('{','}') ])\n",
    "    stack = []\n",
    "    \n",
    "    for char in s:\n",
    "        \n",
    "        #push opening bracktes to stack\n",
    "        if char in opening:\n",
    "            stack.append(char)\n",
    "        else:\n",
    "            if len(stack) == 0:\n",
    "                return False\n",
    "            last_open = stack.pop()\n",
    "            if (last_open,char) not in matches:\n",
    "                return False\n",
    "    return len(stack) == 0\n",
    "    \n",
    "    "
   ]
  },
  {
   "cell_type": "code",
   "execution_count": 84,
   "metadata": {
    "collapsed": false
   },
   "outputs": [
    {
     "name": "stdout",
     "output_type": "stream",
     "text": [
      "2\n"
     ]
    }
   ],
   "source": [
    "s = Stack()\n",
    "s.push(1)\n",
    "s.push(2)\n",
    "print(s.peek())"
   ]
  },
  {
   "cell_type": "code",
   "execution_count": 85,
   "metadata": {
    "collapsed": false
   },
   "outputs": [
    {
     "data": {
      "text/plain": [
       "False"
      ]
     },
     "execution_count": 85,
     "metadata": {},
     "output_type": "execute_result"
    }
   ],
   "source": [
    "balance_check('([])[')"
   ]
  },
  {
   "cell_type": "code",
   "execution_count": 86,
   "metadata": {
    "collapsed": false
   },
   "outputs": [
    {
     "name": "stdout",
     "output_type": "stream",
     "text": [
      "ALL TEST CASES PASSED\n",
      "ALL TEST CASES PASSED\n"
     ]
    }
   ],
   "source": [
    "\"\"\"\n",
    "RUN THIS CELL TO TEST YOUR SOLUTION\n",
    "\"\"\"\n",
    "from nose.tools import assert_equal\n",
    "\n",
    "class TestBalanceCheck(object):\n",
    "    \n",
    "    def test(self,sol):\n",
    "        assert_equal(sol('[](){([[[]]])}('),False)\n",
    "        assert_equal(sol('[{{{(())}}}]((()))'),True)\n",
    "        assert_equal(sol('[[[]])]'),False)\n",
    "        print ('ALL TEST CASES PASSED')\n",
    "        \n",
    "# Run Tests\n",
    "\n",
    "t = TestBalanceCheck()\n",
    "t.test(balance_check)\n",
    "t.test(balance_check2)"
   ]
  },
  {
   "cell_type": "code",
   "execution_count": null,
   "metadata": {
    "collapsed": true
   },
   "outputs": [],
   "source": []
  }
 ],
 "metadata": {
  "kernelspec": {
   "display_name": "Python 3",
   "language": "python",
   "name": "python3"
  },
  "language_info": {
   "codemirror_mode": {
    "name": "ipython",
    "version": 3
   },
   "file_extension": ".py",
   "mimetype": "text/x-python",
   "name": "python",
   "nbconvert_exporter": "python",
   "pygments_lexer": "ipython3",
   "version": "3.6.0"
  }
 },
 "nbformat": 4,
 "nbformat_minor": 2
}
