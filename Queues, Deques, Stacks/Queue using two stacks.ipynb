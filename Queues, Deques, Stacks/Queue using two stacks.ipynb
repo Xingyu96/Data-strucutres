{
 "cells": [
  {
   "cell_type": "code",
   "execution_count": 1,
   "metadata": {
    "collapsed": true
   },
   "outputs": [],
   "source": [
    "stack1 = []\n",
    "stack2 = []"
   ]
  },
  {
   "cell_type": "code",
   "execution_count": 9,
   "metadata": {
    "collapsed": true
   },
   "outputs": [],
   "source": [
    "#my solution - eh, O(n) linear time I guess\n",
    "class Queue2Stacks(object):\n",
    "    def __init__(self):\n",
    "        self.stack1 = []\n",
    "        self.stack2 = []\n",
    "        \n",
    "    def enqueue(self, element):\n",
    "        self.stack1.append(element)\n",
    "        \n",
    "    def dequeue(self):\n",
    "        for element in self.stack1[:len(self.stack1)-1]:\n",
    "            self.stack2.append(self.stack1.pop())\n",
    "        front = self.stack1.pop()\n",
    "        for element in self.stack2:\n",
    "            self.stack1.append(self.stack2.pop())\n",
    "        return front\n",
    "    \n",
    "    "
   ]
  },
  {
   "cell_type": "code",
   "execution_count": 10,
   "metadata": {
    "collapsed": false
   },
   "outputs": [
    {
     "name": "stdout",
     "output_type": "stream",
     "text": [
      "0\n",
      "1\n",
      "2\n",
      "3\n",
      "4\n"
     ]
    }
   ],
   "source": [
    "q = Queue2Stacks()\n",
    "\n",
    "for i in range(5):\n",
    "    q.enqueue(i)\n",
    "for i in range(5):\n",
    "    print(q.dequeue())"
   ]
  },
  {
   "cell_type": "code",
   "execution_count": null,
   "metadata": {
    "collapsed": true
   },
   "outputs": [],
   "source": []
  }
 ],
 "metadata": {
  "kernelspec": {
   "display_name": "Python 3",
   "language": "python",
   "name": "python3"
  },
  "language_info": {
   "codemirror_mode": {
    "name": "ipython",
    "version": 3
   },
   "file_extension": ".py",
   "mimetype": "text/x-python",
   "name": "python",
   "nbconvert_exporter": "python",
   "pygments_lexer": "ipython3",
   "version": "3.6.0"
  }
 },
 "nbformat": 4,
 "nbformat_minor": 2
}
