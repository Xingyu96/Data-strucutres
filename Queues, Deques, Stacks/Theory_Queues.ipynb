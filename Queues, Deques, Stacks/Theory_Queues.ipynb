{
 "cells": [
  {
   "cell_type": "markdown",
   "metadata": {},
   "source": [
    "<h1>Queues</h1>\n",
    "<hr/>\n",
    "\n",
    "<h2>Definition</h2>\n",
    "<ol>\n",
    "<li>Ordered Collection</li>\n",
    "<li>**First in First out (FIFO)**, in at **rear** - out at **front**</li>\n",
    "</ol>\n",
    "\n",
    "<h2>Operations</h2>\n",
    "<ol>\n",
    "<ol>\n",
    "<li><strong>Queue()</strong>&nbsp;creates a new queue that is empty. It needs no parameters and returns an empty queue.</li>\n",
    "<li><strong>enqueue(item)</strong> adds a new item to the rear of the queue. It needs the item and returns nothing.</li>\n",
    "<li><strong>dequeue()</strong> removes the front item from the queue. It needs no parameters and returns the item. The queue is modified.</li>\n",
    "<li><strong>isEmpty()</strong> tests to see whether the queue is empty. It needs no parameters and returns a boolean value.</li>\n",
    "<li><strong>size()</strong> returns the number of items in the queue. It needs no parameters and returns an integer.</li>\n",
    "</ol>\n",
    "</ol>\n",
    "\n",
    "<h2>Uses</h2>\n",
    "<ol>\n",
    "<li>Servicing, Qeueing tasks</li>\n",
    "</ol>\n",
    "\n",
    "<h2>Implementation</h2>"
   ]
  },
  {
   "cell_type": "code",
   "execution_count": 14,
   "metadata": {
    "collapsed": false
   },
   "outputs": [],
   "source": [
    "#my implementation\n",
    "class MyQueue(object):\n",
    "    def __init__(self):\n",
    "        self.items = []\n",
    "        \n",
    "    def enqueue(self,item):\n",
    "        self.items.append(item)\n",
    "    \n",
    "    def dequeue(self):\n",
    "        temp = self.items[0]\n",
    "        del self.items[0]\n",
    "        return temp\n",
    "        \n",
    "    def isEmpty(self):\n",
    "        return self.items == []\n",
    "        \n",
    "    def size(self):\n",
    "        return len(self.items)"
   ]
  },
  {
   "cell_type": "code",
   "execution_count": 15,
   "metadata": {
    "collapsed": true
   },
   "outputs": [],
   "source": [
    "#textbook implementation\n",
    "class Queue(object):\n",
    "    def __init__(self):\n",
    "        self.items = []\n",
    "        \n",
    "    def enqueue(self,item):\n",
    "        self.items.insert(0,item)\n",
    "    \n",
    "    def dequeue(self):\n",
    "        return self.items.pop()\n",
    "        \n",
    "    def isEmpty(self):\n",
    "        return self.items == []\n",
    "        \n",
    "    def size(self):\n",
    "        return len(self.items)"
   ]
  },
  {
   "cell_type": "code",
   "execution_count": 23,
   "metadata": {
    "collapsed": false
   },
   "outputs": [
    {
     "name": "stdout",
     "output_type": "stream",
     "text": [
      "[2]\n",
      "1\n"
     ]
    }
   ],
   "source": [
    "q = MyQueue()\n",
    "q.enqueue(1)\n",
    "q.enqueue(2)\n",
    "q.dequeue()\n",
    "print(q.items)\n",
    "print(q.size())\n"
   ]
  },
  {
   "cell_type": "code",
   "execution_count": null,
   "metadata": {
    "collapsed": true
   },
   "outputs": [],
   "source": []
  }
 ],
 "metadata": {
  "kernelspec": {
   "display_name": "Python 3",
   "language": "python",
   "name": "python3"
  },
  "language_info": {
   "codemirror_mode": {
    "name": "ipython",
    "version": 3
   },
   "file_extension": ".py",
   "mimetype": "text/x-python",
   "name": "python",
   "nbconvert_exporter": "python",
   "pygments_lexer": "ipython3",
   "version": "3.6.0"
  }
 },
 "nbformat": 4,
 "nbformat_minor": 2
}
