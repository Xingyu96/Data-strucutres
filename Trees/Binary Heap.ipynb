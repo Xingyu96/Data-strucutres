{
 "cells": [
  {
   "cell_type": "markdown",
   "metadata": {},
   "source": [
    "# Binary Heap \n",
    "\n",
    "<h2>Definition</h2>\n",
    "\n",
    "A binary heap is defined as a binary tree with two additional constraints:\n",
    "\n",
    "<ul>\n",
    "<li>\n",
    "**Shape property:** a binary heap is a complete binary tree; that is, all levels of the tree, except possibly the last one (deepest) are fully filled, and, if the last level of the tree is not complete, the nodes of that level are filled from left to right.\n",
    "</li>\n",
    "<li>\n",
    "**Heap property:** the key stored in each node is either greater than or equal to (≥) or less than or equal to (≤) the keys in the node's children, according to some total order.\n",
    "</li>\n",
    "</ul>\n",
    "\n",
    "<h2>Terminology</h2>\n",
    "<ul>\n",
    "<li>**min-heap:** root is smallest, ordered small to large</li>\n",
    "<li>**max-heap:** root is smallest, ordered small to large</li>\n",
    "<li>**complete binary tree:** tree in which each level has all of its nodes except the last</li>\n",
    "<li>index of **leftchild** is at **2i**</li>\n",
    "<li>index of **rightchild** is at **2i + 1**</li>\n",
    "</ul>\n",
    "\n",
    "**The basic operations we will implement for our binary heap are as follows:**\n",
    "\n",
    "* **BinaryHeap()** creates a new, empty, binary heap.\n",
    "* **insert(k)** adds a new item to the heap.\n",
    "* **findMin()** returns the item with the minimum key value, leaving item in the heap.\n",
    "* **delMin()** returns the item with the minimum key value, removing the item from the heap.\n",
    "* **isEmpty()** returns true if the heap is empty, false otherwise.\n",
    "* **size()** returns the number of items in the heap.\n",
    "* **buildHeap(list)** builds a new heap from a list of keys."
   ]
  },
  {
   "cell_type": "code",
   "execution_count": 7,
   "metadata": {
    "collapsed": false
   },
   "outputs": [],
   "source": [
    "class BinHeap:\n",
    "    def __init__(self):\n",
    "        self.heapList = [0]\n",
    "        self.currentSize = 0\n",
    "    def insert(self, i):\n",
    "        self.heapList.append(i)\n",
    "        self.currentSize = self.currentSize + 1\n",
    "        self.perUp(self.currentSize)\n",
    "        \n",
    "    def percUp(self, i):\n",
    "        while i // 2 > 0:\n",
    "            if self.heapList[i] < self.heapList[i // 2]:\n",
    "                tmp = self.heapList[i // 2]\n",
    "                self.heapList[i//2] = self.heapList[i]\n",
    "                self.heapList[i] = tmp\n",
    "            i = i // 2\n",
    "    def percDown(self, i):\n",
    "        while (i * 2) <= self.currentSize:\n",
    "            mc = self.minChild(i)\n",
    "            if self.hepList[i] > self.heapList[mc]:\n",
    "                tmp = self.hepList[i]\n",
    "                self.heapList[i] = self.heapList[mc]\n",
    "                self.heapList[mc] = tmp\n",
    "            i =  mc\n",
    "    \n",
    "    def minChild(self, i):\n",
    "        if i * 2 + 1 > self.currentSize:\n",
    "            return i * 2\n",
    "        else:\n",
    "            if self.heapList[i*2] < self.heapLIst[i*2+1]:\n",
    "                return i * 2\n",
    "            else:\n",
    "                return i * 2 + 1\n",
    "        \n",
    "    def delMin(self):\n",
    "        retval = self.heapList[1]\n",
    "        self.heapList[i] = self.heapList[self.currentSize]\n",
    "        self.currentSize = self.currentSize - 1\n",
    "        self.heapList.pop()\n",
    "        self.percDown(1)\n",
    "        return retval\n",
    "    \n",
    "    def buildHeap(self, alist):\n",
    "        i = len(alist) // 2\n",
    "        self.currentSize = len(alist)\n",
    "        self.heapList = [0] + alist[:]\n",
    "        while(i > 0):\n",
    "            self.percDown(i)\n",
    "            i = i - 1\n",
    "        \n",
    "        "
   ]
  },
  {
   "cell_type": "code",
   "execution_count": null,
   "metadata": {
    "collapsed": true
   },
   "outputs": [],
   "source": []
  }
 ],
 "metadata": {
  "kernelspec": {
   "display_name": "Python 3",
   "language": "python",
   "name": "python3"
  },
  "language_info": {
   "codemirror_mode": {
    "name": "ipython",
    "version": 3
   },
   "file_extension": ".py",
   "mimetype": "text/x-python",
   "name": "python",
   "nbconvert_exporter": "python",
   "pygments_lexer": "ipython3",
   "version": "3.6.0"
  }
 },
 "nbformat": 4,
 "nbformat_minor": 2
}
