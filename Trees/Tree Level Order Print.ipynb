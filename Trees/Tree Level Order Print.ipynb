{
 "cells": [
  {
   "cell_type": "code",
   "execution_count": 2,
   "metadata": {
    "collapsed": false
   },
   "outputs": [],
   "source": [
    "class Node:\n",
    "    def __init__(self, val=None):\n",
    "        self.left = None\n",
    "        self.right = None\n",
    "        self.val = val"
   ]
  },
  {
   "cell_type": "code",
   "execution_count": 24,
   "metadata": {
    "collapsed": false
   },
   "outputs": [],
   "source": [
    "import collections\n",
    "\n",
    "def levelOrderPrint(tree):\n",
    "    \n",
    "    if not tree:\n",
    "        return\n",
    "    \n",
    "    nodes = collections.deque([tree])\n",
    "    \n",
    "    currentCount = 1\n",
    "    nextCount = 0\n",
    "    \n",
    "    while len(nodes) != 0:\n",
    "        currentNode = nodes.popleft()\n",
    "        currentCount -= 1\n",
    "\n",
    "        print (currentNode.val, end=\" \")\n",
    "        \n",
    "        if currentNode.left:\n",
    "            nodes.append(currentNode.left)\n",
    "            nextCount += 1\n",
    "        if currentNode.right:\n",
    "            nodes.append(currentNode.right)\n",
    "            nextCount += 1\n",
    "        if currentCount == 0:\n",
    "            print ('\\n', end=\"\")\n",
    "            currentCount,nextCount = nextCount,currentCount"
   ]
  },
  {
   "cell_type": "code",
   "execution_count": 25,
   "metadata": {
    "collapsed": false
   },
   "outputs": [],
   "source": [
    "root = Node(1)\n",
    "root.left = Node(2)\n",
    "root.right = Node(3)"
   ]
  },
  {
   "cell_type": "code",
   "execution_count": 26,
   "metadata": {
    "collapsed": false
   },
   "outputs": [
    {
     "name": "stdout",
     "output_type": "stream",
     "text": [
      "1 \n",
      "2 3 \n"
     ]
    }
   ],
   "source": [
    "levelOrderPrint(root)"
   ]
  },
  {
   "cell_type": "code",
   "execution_count": null,
   "metadata": {
    "collapsed": true
   },
   "outputs": [],
   "source": []
  }
 ],
 "metadata": {
  "kernelspec": {
   "display_name": "Python 3",
   "language": "python",
   "name": "python3"
  },
  "language_info": {
   "codemirror_mode": {
    "name": "ipython",
    "version": 3
   },
   "file_extension": ".py",
   "mimetype": "text/x-python",
   "name": "python",
   "nbconvert_exporter": "python",
   "pygments_lexer": "ipython3",
   "version": "3.6.0"
  }
 },
 "nbformat": 4,
 "nbformat_minor": 2
}
