{
 "cells": [
  {
   "cell_type": "markdown",
   "metadata": {},
   "source": [
    "<h1>Priority Queues with Binary Heaps</h1>\n",
    "<hr/>\n",
    "\n",
    "<h2>Priority Queue Definition</h2>\n",
    "<ol>\n",
    "<li>Acts like queues, you can **remove from front**</li>\n",
    "<li>But **order is determined by logic**, not arrival time</li>\n",
    "<li>Allow enqueue and dequeue in $$O(logn)$$</li>\n",
    "</ol>\n",
    "\n",
    "<h2>Binary Heaps Definition</h2>\n",
    "<ol>\n",
    "<li>**min heap** - smallest key is always in front</li>\n",
    "<li>**max heap** - largest key is always in front</li>\n",
    "</ol>\n",
    "\n",
    "<h2>Operations</h2>\n",
    "<ol>\n",
    "<li>Deque() creates a new deque that is empty. It needs no parameters and returns an empty deque.</li>\n",
    "</ol>\n",
    "\n",
    "<h2>Terminology</h2>\n",
    "<ul>\n",
    "<li><strong>Node:</strong>&nbsp;usually key value pair, (id, data)</li>\n",
    "</ul>\n",
    "\n",
    "\n",
    "<h2>Uses</h2>\n",
    "<ol>\n",
    "<li>Hierarchy</li>\n",
    "<li>Animal Classification</li>\n",
    "<li>Unix File System</li>\n",
    "<li>HTML</li>\n",
    "</ol>\n",
    "\n",
    "<h2>Implementation 1 - List of Lists</h2>"
   ]
  },
  {
   "cell_type": "code",
   "execution_count": null,
   "metadata": {
    "collapsed": true
   },
   "outputs": [],
   "source": []
  }
 ],
 "metadata": {
  "kernelspec": {
   "display_name": "Python 3",
   "language": "python",
   "name": "python3"
  },
  "language_info": {
   "codemirror_mode": {
    "name": "ipython",
    "version": 3
   },
   "file_extension": ".py",
   "mimetype": "text/x-python",
   "name": "python",
   "nbconvert_exporter": "python",
   "pygments_lexer": "ipython3",
   "version": "3.6.0"
  }
 },
 "nbformat": 4,
 "nbformat_minor": 2
}
