{
 "cells": [
  {
   "cell_type": "markdown",
   "metadata": {},
   "source": [
    "<h1>General Trees</h1>\n",
    "<hr/>\n",
    "\n",
    "<h2>Definition</h2>\n",
    "<ol>\n",
    "<li>A number of Nodes with certain rules connecting them</li>\n",
    "<li>Tree Data Structure contains **root**, **branches**, and **leaves**</li>\n",
    "<li>Parent can have multiple children (>=2), but each child can only have **one parent**</li>\n",
    "<li>**multiple outgoing edges**, **unique incoming edge**</li>\n",
    "<li>Each leaf of the Tree is **unique**</li>\n",
    "<li>Because it is double ended, does not enforce LIFO or FIFO</li>\n",
    "</ol>\n",
    "\n",
    "<h2>Full Definition:</h2>\n",
    "<p>A tree consists of a set of nodes and a set of edges that connect pairs of nodes. It has the following properties</p>\n",
    "<ul>\n",
    "<li>Only one root node</li>\n",
    "<li>Every node *n* other than the node is connected by an incoming edge</li>\n",
    "<li>Path to node is **unique**</li>\n",
    "<li>Is **binary tree** if max 2 children per node (degree 2)</li>\n",
    "</ul>\n",
    "\n",
    "<h2>Recursive Definition:</h2>\n",
    "<p>A tree consists of a root node, with either 0 or more subtrees as its children</p>\n",
    "\n",
    "<h2>Operations</h2>\n",
    "<ol>\n",
    "<li>Deque() creates a new deque that is empty. It needs no parameters and returns an empty deque.</li>\n",
    "<li>addFront(item) adds a new item to the front of the deque. It needs the item and returns nothing.</li>\n",
    "<li>addRear(item) adds a new item to the rear of the deque. It needs the item and returns nothing.</li>\n",
    "<li>removeFront() removes the front item from the deque. It needs no parameters and returns the item. The deque is modified.</li>\n",
    "<li>removeRear() removes the rear item from the deque. It needs no parameters and returns the item. The deque is modified.</li>\n",
    "<li>isEmpty() tests to see whether the deque is empty. It needs no parameters and returns a boolean value.</li>\n",
    "<li>size() returns the number of items in the deque. It needs no parameters and returns an integer.</li>\n",
    "</ol>\n",
    "\n",
    "<h2>Terminology</h2>\n",
    "<ul>\n",
    "<li><strong>Node:</strong>&nbsp;usually key value pair, (id, data)</li>\n",
    "<li><strong>Edge:</strong>&nbsp;connects 2 nodes</li>\n",
    "<li><strong>Root</strong><strong>:</strong>&nbsp;only node in tree&nbsp;<strong>without</strong> an incoming edge</li>\n",
    "<li><strong>Path:</strong> ordered list of nodes connected by edges</li>\n",
    "<li><strong>Children</strong><strong>:&nbsp;</strong>set of node that share parent, incoming nodes from same node</li>\n",
    "<li><strong>Parent:</strong> node of incoming edge</li>\n",
    "<li><strong>Sibling:&nbsp;</strong>what children are to each other</li>\n",
    "<li><strong>Leaf:</strong> node with no children</li>\n",
    "<li><strong>Level:&nbsp;</strong>number of edges from root node</li>\n",
    "<li><strong>Height</strong>: maximum level of any node in tree</li>\n",
    "</ul>\n",
    "\n",
    "\n",
    "<h2>Uses</h2>\n",
    "<ol>\n",
    "<li>Hierarchy</li>\n",
    "<li>Animal Classification</li>\n",
    "<li>Unix File System</li>\n",
    "<li>HTML</li>\n",
    "</ol>\n",
    "\n",
    "<h2>Implementation 1 - List of Lists</h2>"
   ]
  },
  {
   "cell_type": "code",
   "execution_count": 1,
   "metadata": {
    "collapsed": true
   },
   "outputs": [],
   "source": [
    "def BinaryTree(r):\n",
    "    return [r,[],[]]"
   ]
  },
  {
   "cell_type": "code",
   "execution_count": 2,
   "metadata": {
    "collapsed": true
   },
   "outputs": [],
   "source": [
    "def insertleft(r,node):\n",
    "    t = root.pop(1)\n",
    "    if len(t) > 1:\n",
    "        root.insert(1,[node,t,[]])\n",
    "    else:\n",
    "        root.insert(1,[node,[],[]])\n",
    "    return root"
   ]
  },
  {
   "cell_type": "code",
   "execution_count": null,
   "metadata": {
    "collapsed": true
   },
   "outputs": [],
   "source": [
    "def insertright(r,node):\n",
    "    t = root.pop(2)\n",
    "    if len(t) > 1:\n",
    "        root.insert(2,[node,[],t])\n",
    "    else:\n",
    "        root.insert(2,[node,[],[]])\n",
    "    return root"
   ]
  }
 ],
 "metadata": {
  "kernelspec": {
   "display_name": "Python 3",
   "language": "python",
   "name": "python3"
  },
  "language_info": {
   "codemirror_mode": {
    "name": "ipython",
    "version": 3
   },
   "file_extension": ".py",
   "mimetype": "text/x-python",
   "name": "python",
   "nbconvert_exporter": "python",
   "pygments_lexer": "ipython3",
   "version": "3.6.0"
  }
 },
 "nbformat": 4,
 "nbformat_minor": 2
}
